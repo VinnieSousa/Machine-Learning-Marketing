{
 "cells": [
  {
   "cell_type": "code",
   "execution_count": 5,
   "id": "3ecc8c3f",
   "metadata": {},
   "outputs": [],
   "source": [
    "import requests\n",
    "from bs4 import BeautifulSoup"
   ]
  },
  {
   "cell_type": "code",
   "execution_count": 11,
   "id": "b02090d3",
   "metadata": {},
   "outputs": [],
   "source": [
    "page = requests.get(\"https://www.imdb.com/pt/\")\n",
    "soup = BeautifulSoup(page.text, \"html.parser\")\n",
    "movies = soup.find_all(\"span\", attrs={\"class\":\"title\"})\n",
    "\n",
    "for movie in movies:\n",
    "    print(movie.text)"
   ]
  },
  {
   "cell_type": "code",
   "execution_count": 17,
   "id": "c7bdf97d",
   "metadata": {},
   "outputs": [
    {
     "name": "stdout",
     "output_type": "stream",
     "text": [
      "“The world as we have created it is a process of our thinking. It cannot be changed without changing our thinking.”\n",
      "“It is our choices, Harry, that show what we truly are, far more than our abilities.”\n",
      "“There are only two ways to live your life. One is as though nothing is a miracle. The other is as though everything is a miracle.”\n",
      "“The person, be it gentleman or lady, who has not pleasure in a good novel, must be intolerably stupid.”\n",
      "“Imperfection is beauty, madness is genius and it's better to be absolutely ridiculous than absolutely boring.”\n",
      "“Try not to become a man of success. Rather become a man of value.”\n",
      "“It is better to be hated for what you are than to be loved for what you are not.”\n",
      "“I have not failed. I've just found 10,000 ways that won't work.”\n",
      "“A woman is like a tea bag; you never know how strong it is until it's in hot water.”\n",
      "“A day without sunshine is like, you know, night.”\n"
     ]
    }
   ],
   "source": [
    "page = requests.get(\"https://quotes.toscrape.com\")\n",
    "soup = BeautifulSoup(page.text, \"html.parser\")\n",
    "movies = soup.find_all(\"span\", attrs={\"class\":\"text\"})\n",
    "\n",
    "for movie in movies:\n",
    "    print(movie.text)"
   ]
  }
 ],
 "metadata": {
  "kernelspec": {
   "display_name": "Python 3",
   "language": "python",
   "name": "python3"
  },
  "language_info": {
   "codemirror_mode": {
    "name": "ipython",
    "version": 3
   },
   "file_extension": ".py",
   "mimetype": "text/x-python",
   "name": "python",
   "nbconvert_exporter": "python",
   "pygments_lexer": "ipython3",
   "version": "3.12.10"
  }
 },
 "nbformat": 4,
 "nbformat_minor": 5
}
