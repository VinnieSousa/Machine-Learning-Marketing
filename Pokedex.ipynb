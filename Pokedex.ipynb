{
 "cells": [
  {
   "cell_type": "markdown",
   "metadata": {},
   "source": [
    "Bem vindo a Pokedex de batalha.\n",
    "\n",
    "Aqui, com o intuito de montar um time competitivo de batalha, para qualquer geração da franquia,\n",
    "apresento uma ferramenta de busca tanto de pokémons, quanto de movimentos e TMs.\n",
    "\n",
    "Documentação do Código\n",
    "Descrição\n",
    "Este script coleta dados de três diferentes endpoints da API do Pokémon (PokéAPI), armazena esses dados em um \n",
    "banco de dados, realiza algumas manipulações básicas nos dados e o converte para o formato CSV.\n",
    "O script é dividido em três partes principais:\n",
    "\n",
    "Coleta de dados de Pokémons.\n",
    "Coleta de dados de TMs.\n",
    "Coleta de dados de Movimentos.\n",
    "\n",
    "Além disso, o script possui funções auxiliares para salvar dados no banco de dados e enviar notificações.\n",
    "\n",
    "Dependências:\n",
    "Este script depende das seguintes bibliotecas:\n",
    "pandas\n",
    "requests\n",
    "sqlite3\n",
    "datetime\n",
    "\n",
    "Coleta de Dados\n",
    "1. Coleta de Dados dos Pokémons\n",
    "Coleta dados dos Pokémons da PokéAPI e salva no banco de dados.\n",
    "Dados de cada espécie de pokémon, são retirados da API \"https://pokeapi.co/api/v2/pokemon\", e categorizados em:\n",
    "Name - Nome da espécie\n",
    "Height - Altura do pokémon \n",
    "Weight - Peso do pokémon (importante para moves como Low Kick e Grass Knot)\n",
    "Type - O tipo de cada pokémon, podendo ter até dois\n",
    "Base Experience - Parâmetro que influencia na taxa de crescimento do pokémon\n",
    "\n",
    "2. Coleta de Dados de TMs\n",
    "Coleta dados de TMs da PokéAPI e salva no banco de dados.\n",
    "Dados de cada TM de versões diferentes do jogo, retirado da API \"https://pokeapi.co/api/v2/machine\", e categorizados em:\n",
    "TM: Número da TM\n",
    "Generation: Geração da franquia ao qual esta TM está listada\n",
    "Move: Nome do movimento\n",
    "\n",
    "3. Coleta de Dados de Movimentos\n",
    "Coleta dados de Movimentos da PokéAPI e salva no banco de dados.\n",
    "Dados de cada movimentos de pokémons, retirados da API \"https://pokeapi.co/api/v2/move\" e categorizados em:\n",
    "Nome: Nome\n",
    "Type: Tipo\n",
    "Power: Poder base\n",
    "Accuracy: Precisão\n",
    "Power Points: PP (número de usos)\n",
    "Effect: Pequena descrição do movimento e seus efeitos secundários.\n",
    "\n",
    "Consulta das Tabelas no Banco de Dados\n",
    "Consulta e exibe os nomes das tabelas presentes no banco de dados.\n",
    "\n",
    "Conclusão\n",
    "Este script fornece uma maneira automatizada de coletar, processar e armazenar dados da PokéAPI em um\n",
    "banco de dados CSV, tornando possível seu consumo no SQL Server para uma análise aprofundada de dados."
   ]
  },
  {
   "cell_type": "markdown",
   "metadata": {},
   "source": [
    "Importando Bibliotecas"
   ]
  },
  {
   "cell_type": "code",
   "execution_count": null,
   "metadata": {},
   "outputs": [],
   "source": [
    "import pandas as pd\n",
    "import requests\n",
    "import sqlite3"
   ]
  },
  {
   "cell_type": "markdown",
   "metadata": {},
   "source": [
    "Função para salvar o banco de dados"
   ]
  },
  {
   "cell_type": "code",
   "execution_count": null,
   "metadata": {},
   "outputs": [],
   "source": [
    "def save_to_db(df, table_name, conn):\n",
    "    df.to_sql(table_name, conn, if_exists='replace', index=False)\n",
    "    print(f\"Tabela {table_name} salva no banco de dados\")"
   ]
  },
  {
   "cell_type": "markdown",
   "metadata": {},
   "source": [
    "# Pokemons"
   ]
  },
  {
   "cell_type": "markdown",
   "metadata": {},
   "source": [
    "Consumo de APIs e criação do Data Frame"
   ]
  },
  {
   "cell_type": "code",
   "execution_count": null,
   "metadata": {},
   "outputs": [],
   "source": [
    "url = \"https://pokeapi.co/api/v2/pokemon\"\n",
    "response = requests.get(url)"
   ]
  },
  {
   "cell_type": "code",
   "execution_count": null,
   "metadata": {},
   "outputs": [],
   "source": [
    "#verificação da resposta da funcionalidade da API\n",
    "if response.status_code == 200:\n",
    "    data_json = response.json()\n",
    "    print(\"Funcionou\")\n",
    "\n",
    "    pokemon_list = []\n",
    "    for pokemon in data_json['results']:\n",
    "        pokemon_url = pokemon['url']\n",
    "        pokemon_response = requests.get(pokemon_url)\n",
    "        if pokemon_response.status_code == 200:\n",
    "            pokemon_data = pokemon_response.json()            \n",
    "        \n",
    "            types = \", \".join([type_info['type']['name'] for type_info in pokemon_data['types']])\n",
    "            \n",
    "            pokemon_info = {\n",
    "                'name': pokemon_data['name'],\n",
    "                'height': pokemon_data['height'],\n",
    "                'weight': pokemon_data['weight'],\n",
    "                'types': types,\n",
    "                'base_experience': pokemon_data['base_experience']\n",
    "            }\n",
    "            pokemon_list.append(pokemon_info)\n",
    "        else:\n",
    "            print(f\"Falha ao acessar dados de {pokemon['name']}\")\n",
    "\n",
    "    df_pokemons = pd.DataFrame(pokemon_list)\n",
    "else:\n",
    "    print(\"Não foi\")"
   ]
  },
  {
   "cell_type": "markdown",
   "metadata": {},
   "source": [
    "Limpeza de dados"
   ]
  },
  {
   "cell_type": "code",
   "execution_count": null,
   "metadata": {},
   "outputs": [],
   "source": [
    "df_pokemons.duplicated()\n",
    "df_pokemons.drop_duplicates()"
   ]
  },
  {
   "cell_type": "code",
   "execution_count": null,
   "metadata": {},
   "outputs": [],
   "source": [
    "df_pokemons.groupby('height')\n",
    "df_pokemons.sort_values('height', ascending=True)"
   ]
  },
  {
   "cell_type": "markdown",
   "metadata": {},
   "source": [
    "Criação de Banco de Dados e conexão com SQL"
   ]
  },
  {
   "cell_type": "code",
   "execution_count": null,
   "metadata": {},
   "outputs": [],
   "source": [
    "conn = sqlite3.connect('pokedex.db')\n",
    "save_to_db(df_pokemons, 'Pokemon', conn)\n",
    "conn.close()"
   ]
  },
  {
   "cell_type": "code",
   "execution_count": null,
   "metadata": {},
   "outputs": [],
   "source": [
    "conn = sqlite3.connect('pokedex.db')\n",
    "query = \"SELECT * FROM Pokemon\"\n",
    "df = pd.read_sql(query, conn)\n",
    "print(df)\n",
    "\n",
    "conn.close()"
   ]
  },
  {
   "cell_type": "markdown",
   "metadata": {},
   "source": [
    "# TMs"
   ]
  },
  {
   "cell_type": "markdown",
   "metadata": {},
   "source": [
    "Consumo de APIs e criação do Data Frame"
   ]
  },
  {
   "cell_type": "code",
   "execution_count": null,
   "metadata": {},
   "outputs": [],
   "source": [
    "url = \"https://pokeapi.co/api/v2/machine\"\n",
    "response = requests.get(url)"
   ]
  },
  {
   "cell_type": "code",
   "execution_count": null,
   "metadata": {},
   "outputs": [],
   "source": [
    "if response.status_code == 200:\n",
    "    data_json = response.json()\n",
    "    print(\"Funcionou\")\n",
    "\n",
    "    machine_list = []\n",
    "    for machine in data_json['results']:\n",
    "        machine_url = machine['url']\n",
    "        machine_response = requests.get(machine_url)\n",
    "        machine_data = machine_response.json()\n",
    "        machine_info = {\n",
    "             'id': machine_data['id'],\n",
    "             'TM': machine_data['item']['name'],\n",
    "             'generation': machine_data['version_group']['name'],\n",
    "             'move': machine_data['move']['name'],\n",
    "\n",
    "            }\n",
    "        machine_list.append(machine_info)\n",
    "    df_machine_list = pd.DataFrame(machine_list)\n",
    "    \n",
    "else:\n",
    "    print(\"Não foi\")"
   ]
  },
  {
   "cell_type": "markdown",
   "metadata": {},
   "source": [
    "Limpeza de dados"
   ]
  },
  {
   "cell_type": "code",
   "execution_count": null,
   "metadata": {},
   "outputs": [],
   "source": [
    "df_machine_list.duplicated()\n",
    "df_machine_list.drop_duplicates()"
   ]
  },
  {
   "cell_type": "markdown",
   "metadata": {},
   "source": [
    "Criação de Banco de Dados e conexão com SQL"
   ]
  },
  {
   "cell_type": "code",
   "execution_count": null,
   "metadata": {},
   "outputs": [],
   "source": [
    "conn = sqlite3.connect('pokedex.db')\n",
    "save_to_db(df_machine_list, 'TMs', conn)\n",
    "conn.close()"
   ]
  },
  {
   "cell_type": "code",
   "execution_count": null,
   "metadata": {},
   "outputs": [],
   "source": [
    "conn = sqlite3.connect('pokedex.db')\n",
    "query = \"SELECT * FROM TMs\"\n",
    "df = pd.read_sql(query, conn)\n",
    "print(df)\n",
    "\n",
    "conn.close()"
   ]
  },
  {
   "cell_type": "markdown",
   "metadata": {},
   "source": [
    "# Moves"
   ]
  },
  {
   "cell_type": "markdown",
   "metadata": {},
   "source": [
    "Consumo de APIs e criação do Data Frame"
   ]
  },
  {
   "cell_type": "code",
   "execution_count": null,
   "metadata": {},
   "outputs": [],
   "source": [
    "url = \"https://pokeapi.co/api/v2/move\"\n",
    "response = requests.get(url)"
   ]
  },
  {
   "cell_type": "code",
   "execution_count": null,
   "metadata": {},
   "outputs": [],
   "source": [
    "if response.status_code == 200:\n",
    "    data_json = response.json()\n",
    "    print(\"funcionou\")\n",
    "\n",
    "    move_list = []\n",
    "    for move in data_json ['results']:\n",
    "        move_url = move['url']\n",
    "        move_response = requests.get(move_url)\n",
    "        move_data = move_response.json()\n",
    "        move_info = {\n",
    "            'name': move_data ['name'],\n",
    "            'type': move_data ['type']['name'],\n",
    "            'power': move_data['power'],\n",
    "            'accuracy': move_data['accuracy'],\n",
    "            'power points': move_data['pp'],\n",
    "            'effect': move_data ['effect_entries'][0]['short_effect'],\n",
    "        }\n",
    "        move_list.append(move_info)\n",
    "    df_moves = pd.DataFrame(move_list)\n",
    "\n",
    "else:\n",
    "    print(\"nao funcionou\")"
   ]
  },
  {
   "cell_type": "markdown",
   "metadata": {},
   "source": [
    "Limpeza de dados"
   ]
  },
  {
   "cell_type": "code",
   "execution_count": null,
   "metadata": {},
   "outputs": [],
   "source": [
    "df_moves.duplicated()\n",
    "df_moves.drop_duplicates"
   ]
  },
  {
   "cell_type": "code",
   "execution_count": null,
   "metadata": {},
   "outputs": [],
   "source": [
    "conn = sqlite3.connect('pokedex.db')\n",
    "save_to_db(df_moves, 'Moves', conn)\n",
    "conn.close()"
   ]
  },
  {
   "cell_type": "markdown",
   "metadata": {},
   "source": [
    "Criação de Banco de Dados e conexão com SQL"
   ]
  },
  {
   "cell_type": "code",
   "execution_count": null,
   "metadata": {},
   "outputs": [],
   "source": [
    "conn = sqlite3.connect('pokedex.db')\n",
    "query = \"SELECT * FROM Moves\"\n",
    "df = pd.read_sql(query, conn)\n",
    "print(df)\n",
    "\n",
    "conn.close()"
   ]
  },
  {
   "cell_type": "markdown",
   "metadata": {},
   "source": [
    "Verificação dos bancos de dados criados para consumo no SQL"
   ]
  },
  {
   "cell_type": "code",
   "execution_count": null,
   "metadata": {},
   "outputs": [],
   "source": [
    "conn = sqlite3.connect('pokedex.db')\n",
    "query = \"SELECT name FROM sqlite_master WHERE type='table'\"\n",
    "schema = pd.read_sql_query(query, conn)\n",
    "print(schema)\n",
    "\n",
    "conn.close()"
   ]
  }
 ],
 "metadata": {
  "kernelspec": {
   "display_name": "Python 3",
   "language": "python",
   "name": "python3"
  },
  "language_info": {
   "codemirror_mode": {
    "name": "ipython",
    "version": 3
   },
   "file_extension": ".py",
   "mimetype": "text/x-python",
   "name": "python",
   "nbconvert_exporter": "python",
   "pygments_lexer": "ipython3",
   "version": "3.12.10"
  }
 },
 "nbformat": 4,
 "nbformat_minor": 2
}
