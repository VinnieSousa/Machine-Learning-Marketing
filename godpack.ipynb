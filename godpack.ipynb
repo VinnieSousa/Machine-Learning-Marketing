{
 "cells": [
  {
   "cell_type": "code",
   "execution_count": 1,
   "id": "85361674",
   "metadata": {},
   "outputs": [
    {
     "name": "stdout",
     "output_type": "stream",
     "text": [
      "hello world\n"
     ]
    }
   ],
   "source": [
    "print (\"hello world\")"
   ]
  },
  {
   "cell_type": "code",
   "execution_count": 3,
   "id": "98f2885c",
   "metadata": {},
   "outputs": [],
   "source": [
    "import random\n",
    "\n",
    "# Função sorteio\n",
    "def sorteio(alvo):\n",
    "    tentativas = 0\n",
    "    while True:\n",
    "        numero_sorteado = random.randint(1, 2000)\n",
    "        tentativas += 1\n",
    "        if numero_sorteado == alvo:\n",
    "            break\n",
    "    return tentativas\n",
    "\n"
   ]
  },
  {
   "cell_type": "code",
   "execution_count": 4,
   "id": "e7adf74e",
   "metadata": {},
   "outputs": [
    {
     "name": "stdout",
     "output_type": "stream",
     "text": [
      "O número 114 foi sorteado após 288 tentativas.\n"
     ]
    }
   ],
   "source": [
    "numero_usuario = int(input(\"Digite um número entre 1 e 2000: \"))\n",
    "if 1 <= numero_usuario <= 2000:\n",
    "            tentativas = sorteio(numero_usuario)\n",
    "            print(f\"O número {numero_usuario} foi sorteado após {tentativas} tentativas.\")\n",
    "else:\n",
    "            print(\"Número fora do intervalo permitido.\")"
   ]
  }
 ],
 "metadata": {
  "kernelspec": {
   "display_name": "Python 3",
   "language": "python",
   "name": "python3"
  },
  "language_info": {
   "codemirror_mode": {
    "name": "ipython",
    "version": 3
   },
   "file_extension": ".py",
   "mimetype": "text/x-python",
   "name": "python",
   "nbconvert_exporter": "python",
   "pygments_lexer": "ipython3",
   "version": "3.12.10"
  }
 },
 "nbformat": 4,
 "nbformat_minor": 5
}
